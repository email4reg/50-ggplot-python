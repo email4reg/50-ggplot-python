{
 "cells": [
  {
   "cell_type": "markdown",
   "metadata": {},
   "source": [
    "### Index\n",
    "\n",
    "1. [Scatterplot](Scatterplot.ipynb)\n",
    "2. [Scatterplot with encircling](ScatterplotEncircling.ipynb)\n",
    "3. [Jitter plot](Jitter.ipynb)\n",
    "4. [Count plot](Count.ipynb)\n",
    "5. [Bubble plot](Bubble.ipynb)\n",
    "6. [Animated bubble plot](AnimatedBubble.ipynb)"
   ]
  }
 ],
 "metadata": {
  "kernelspec": {
   "display_name": "Python 2",
   "language": "python",
   "name": "python2"
  },
  "language_info": {
   "codemirror_mode": {
    "name": "ipython",
    "version": 2
   },
   "file_extension": ".py",
   "mimetype": "text/x-python",
   "name": "python",
   "nbconvert_exporter": "python",
   "pygments_lexer": "ipython2",
   "version": "2.7.13"
  }
 },
 "nbformat": 4,
 "nbformat_minor": 2
}
