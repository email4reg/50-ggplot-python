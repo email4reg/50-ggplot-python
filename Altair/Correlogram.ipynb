{
 "cells": [
  {
   "cell_type": "markdown",
   "metadata": {},
   "source": [
    "### Target\n",
    "\n",
    "![](http://r-statistics.co/screenshots/ggplot_masterlist_9.png)"
   ]
  },
  {
   "cell_type": "code",
   "execution_count": 69,
   "metadata": {
    "collapsed": true
   },
   "outputs": [],
   "source": [
    "import pandas as pd\n",
    "mpg= pd.read_csv(\"http://goo.gl/uEeRGu\") \n",
    "mpg_corr  = mpg.corr().round(2)"
   ]
  },
  {
   "cell_type": "code",
   "execution_count": 70,
   "metadata": {},
   "outputs": [
    {
     "data": {
      "text/html": [
       "<div>\n",
       "<table border=\"1\" class=\"dataframe\">\n",
       "  <thead>\n",
       "    <tr style=\"text-align: right;\">\n",
       "      <th></th>\n",
       "      <th>displ</th>\n",
       "      <th>year</th>\n",
       "      <th>cyl</th>\n",
       "      <th>cty</th>\n",
       "      <th>hwy</th>\n",
       "    </tr>\n",
       "  </thead>\n",
       "  <tbody>\n",
       "    <tr>\n",
       "      <th>displ</th>\n",
       "      <td>1.00</td>\n",
       "      <td>0.15</td>\n",
       "      <td>0.93</td>\n",
       "      <td>-0.80</td>\n",
       "      <td>-0.77</td>\n",
       "    </tr>\n",
       "    <tr>\n",
       "      <th>year</th>\n",
       "      <td>0.15</td>\n",
       "      <td>1.00</td>\n",
       "      <td>0.12</td>\n",
       "      <td>-0.04</td>\n",
       "      <td>0.00</td>\n",
       "    </tr>\n",
       "    <tr>\n",
       "      <th>cyl</th>\n",
       "      <td>0.93</td>\n",
       "      <td>0.12</td>\n",
       "      <td>1.00</td>\n",
       "      <td>-0.81</td>\n",
       "      <td>-0.76</td>\n",
       "    </tr>\n",
       "    <tr>\n",
       "      <th>cty</th>\n",
       "      <td>-0.80</td>\n",
       "      <td>-0.04</td>\n",
       "      <td>-0.81</td>\n",
       "      <td>1.00</td>\n",
       "      <td>0.96</td>\n",
       "    </tr>\n",
       "    <tr>\n",
       "      <th>hwy</th>\n",
       "      <td>-0.77</td>\n",
       "      <td>0.00</td>\n",
       "      <td>-0.76</td>\n",
       "      <td>0.96</td>\n",
       "      <td>1.00</td>\n",
       "    </tr>\n",
       "  </tbody>\n",
       "</table>\n",
       "</div>"
      ],
      "text/plain": [
       "       displ  year   cyl   cty   hwy\n",
       "displ   1.00  0.15  0.93 -0.80 -0.77\n",
       "year    0.15  1.00  0.12 -0.04  0.00\n",
       "cyl     0.93  0.12  1.00 -0.81 -0.76\n",
       "cty    -0.80 -0.04 -0.81  1.00  0.96\n",
       "hwy    -0.77  0.00 -0.76  0.96  1.00"
      ]
     },
     "execution_count": 70,
     "metadata": {},
     "output_type": "execute_result"
    }
   ],
   "source": [
    "mpg_corr"
   ]
  },
  {
   "cell_type": "code",
   "execution_count": 71,
   "metadata": {},
   "outputs": [
    {
     "data": {
      "text/html": [
       "<div>\n",
       "<table border=\"1\" class=\"dataframe\">\n",
       "  <thead>\n",
       "    <tr style=\"text-align: right;\">\n",
       "      <th></th>\n",
       "      <th>x</th>\n",
       "      <th>y</th>\n",
       "      <th>value</th>\n",
       "    </tr>\n",
       "  </thead>\n",
       "  <tbody>\n",
       "    <tr>\n",
       "      <th>0</th>\n",
       "      <td>displ</td>\n",
       "      <td>displ</td>\n",
       "      <td>1.00</td>\n",
       "    </tr>\n",
       "    <tr>\n",
       "      <th>1</th>\n",
       "      <td>displ</td>\n",
       "      <td>year</td>\n",
       "      <td>0.15</td>\n",
       "    </tr>\n",
       "    <tr>\n",
       "      <th>2</th>\n",
       "      <td>displ</td>\n",
       "      <td>cyl</td>\n",
       "      <td>0.93</td>\n",
       "    </tr>\n",
       "    <tr>\n",
       "      <th>3</th>\n",
       "      <td>displ</td>\n",
       "      <td>cty</td>\n",
       "      <td>-0.80</td>\n",
       "    </tr>\n",
       "    <tr>\n",
       "      <th>4</th>\n",
       "      <td>displ</td>\n",
       "      <td>hwy</td>\n",
       "      <td>-0.77</td>\n",
       "    </tr>\n",
       "  </tbody>\n",
       "</table>\n",
       "</div>"
      ],
      "text/plain": [
       "       x      y  value\n",
       "0  displ  displ   1.00\n",
       "1  displ   year   0.15\n",
       "2  displ    cyl   0.93\n",
       "3  displ    cty  -0.80\n",
       "4  displ    hwy  -0.77"
      ]
     },
     "execution_count": 71,
     "metadata": {},
     "output_type": "execute_result"
    }
   ],
   "source": [
    "mpg_corr = mpg_corr.stack().reset_index()\n",
    "mpg_corr.columns = ['x','y','value']\n",
    "mpg_corr.head()"
   ]
  },
  {
   "cell_type": "code",
   "execution_count": 110,
   "metadata": {},
   "outputs": [
    {
     "data": {
      "text/html": [
       "<div class=\"vega-embed\" id=\"0b67b15b-9334-4408-8b25-4efaefed41e0\"></div>\n",
       "\n",
       "<style>\n",
       ".vega-embed svg, .vega-embed canvas {\n",
       "  border: 1px dotted gray;\n",
       "}\n",
       "\n",
       ".vega-embed .vega-actions a {\n",
       "  margin-right: 6px;\n",
       "}\n",
       "</style>\n"
      ]
     },
     "metadata": {
      "jupyter-vega": "#0b67b15b-9334-4408-8b25-4efaefed41e0"
     },
     "output_type": "display_data"
    },
    {
     "data": {
      "application/javascript": [
       "var spec = {\"layers\": [{\"data\": {\"values\": [{\"y\": \"displ\", \"x\": \"displ\", \"value\": 1.0}, {\"y\": \"year\", \"x\": \"displ\", \"value\": 0.15}, {\"y\": \"cyl\", \"x\": \"displ\", \"value\": 0.93}, {\"y\": \"cty\", \"x\": \"displ\", \"value\": -0.8}, {\"y\": \"hwy\", \"x\": \"displ\", \"value\": -0.77}, {\"y\": \"displ\", \"x\": \"year\", \"value\": 0.15}, {\"y\": \"year\", \"x\": \"year\", \"value\": 1.0}, {\"y\": \"cyl\", \"x\": \"year\", \"value\": 0.12}, {\"y\": \"cty\", \"x\": \"year\", \"value\": -0.04}, {\"y\": \"hwy\", \"x\": \"year\", \"value\": 0.0}, {\"y\": \"displ\", \"x\": \"cyl\", \"value\": 0.93}, {\"y\": \"year\", \"x\": \"cyl\", \"value\": 0.12}, {\"y\": \"cyl\", \"x\": \"cyl\", \"value\": 1.0}, {\"y\": \"cty\", \"x\": \"cyl\", \"value\": -0.81}, {\"y\": \"hwy\", \"x\": \"cyl\", \"value\": -0.76}, {\"y\": \"displ\", \"x\": \"cty\", \"value\": -0.8}, {\"y\": \"year\", \"x\": \"cty\", \"value\": -0.04}, {\"y\": \"cyl\", \"x\": \"cty\", \"value\": -0.81}, {\"y\": \"cty\", \"x\": \"cty\", \"value\": 1.0}, {\"y\": \"hwy\", \"x\": \"cty\", \"value\": 0.96}, {\"y\": \"displ\", \"x\": \"hwy\", \"value\": -0.77}, {\"y\": \"year\", \"x\": \"hwy\", \"value\": 0.0}, {\"y\": \"cyl\", \"x\": \"hwy\", \"value\": -0.76}, {\"y\": \"cty\", \"x\": \"hwy\", \"value\": 0.96}, {\"y\": \"hwy\", \"x\": \"hwy\", \"value\": 1.0}]}, \"mark\": \"text\", \"config\": {\"mark\": {\"color\": \"black\", \"fontWeight\": \"bold\", \"fontSize\": 12.0}}, \"encoding\": {\"y\": {\"field\": \"y\", \"type\": \"nominal\"}, \"text\": {\"field\": \"value\", \"type\": \"quantitative\"}, \"x\": {\"field\": \"x\", \"type\": \"nominal\", \"axis\": {\"labelAngle\": -45.0}}}}, {\"data\": {\"values\": [{\"y\": \"displ\", \"x\": \"displ\", \"value\": 1.0}, {\"y\": \"year\", \"x\": \"displ\", \"value\": 0.15}, {\"y\": \"cyl\", \"x\": \"displ\", \"value\": 0.93}, {\"y\": \"cty\", \"x\": \"displ\", \"value\": -0.8}, {\"y\": \"hwy\", \"x\": \"displ\", \"value\": -0.77}, {\"y\": \"displ\", \"x\": \"year\", \"value\": 0.15}, {\"y\": \"year\", \"x\": \"year\", \"value\": 1.0}, {\"y\": \"cyl\", \"x\": \"year\", \"value\": 0.12}, {\"y\": \"cty\", \"x\": \"year\", \"value\": -0.04}, {\"y\": \"hwy\", \"x\": \"year\", \"value\": 0.0}, {\"y\": \"displ\", \"x\": \"cyl\", \"value\": 0.93}, {\"y\": \"year\", \"x\": \"cyl\", \"value\": 0.12}, {\"y\": \"cyl\", \"x\": \"cyl\", \"value\": 1.0}, {\"y\": \"cty\", \"x\": \"cyl\", \"value\": -0.81}, {\"y\": \"hwy\", \"x\": \"cyl\", \"value\": -0.76}, {\"y\": \"displ\", \"x\": \"cty\", \"value\": -0.8}, {\"y\": \"year\", \"x\": \"cty\", \"value\": -0.04}, {\"y\": \"cyl\", \"x\": \"cty\", \"value\": -0.81}, {\"y\": \"cty\", \"x\": \"cty\", \"value\": 1.0}, {\"y\": \"hwy\", \"x\": \"cty\", \"value\": 0.96}, {\"y\": \"displ\", \"x\": \"hwy\", \"value\": -0.77}, {\"y\": \"year\", \"x\": \"hwy\", \"value\": 0.0}, {\"y\": \"cyl\", \"x\": \"hwy\", \"value\": -0.76}, {\"y\": \"cty\", \"x\": \"hwy\", \"value\": 0.96}, {\"y\": \"hwy\", \"x\": \"hwy\", \"value\": 1.0}]}, \"mark\": \"point\", \"config\": {\"mark\": {\"color\": \"black:Q\", \"filled\": true, \"size\": 500.0}}, \"encoding\": {\"y\": {\"field\": \"y\", \"type\": \"nominal\"}, \"color\": {\"field\": \"value\", \"scale\": {\"range\": [\"red\", \"green\"]}, \"type\": \"quantitative\"}, \"x\": {\"field\": \"x\", \"type\": \"nominal\"}}}], \"data\": {\"values\": [{\"y\": \"displ\", \"x\": \"displ\", \"value\": 1.0}, {\"y\": \"year\", \"x\": \"displ\", \"value\": 0.15}, {\"y\": \"cyl\", \"x\": \"displ\", \"value\": 0.93}, {\"y\": \"cty\", \"x\": \"displ\", \"value\": -0.8}, {\"y\": \"hwy\", \"x\": \"displ\", \"value\": -0.77}, {\"y\": \"displ\", \"x\": \"year\", \"value\": 0.15}, {\"y\": \"year\", \"x\": \"year\", \"value\": 1.0}, {\"y\": \"cyl\", \"x\": \"year\", \"value\": 0.12}, {\"y\": \"cty\", \"x\": \"year\", \"value\": -0.04}, {\"y\": \"hwy\", \"x\": \"year\", \"value\": 0.0}, {\"y\": \"displ\", \"x\": \"cyl\", \"value\": 0.93}, {\"y\": \"year\", \"x\": \"cyl\", \"value\": 0.12}, {\"y\": \"cyl\", \"x\": \"cyl\", \"value\": 1.0}, {\"y\": \"cty\", \"x\": \"cyl\", \"value\": -0.81}, {\"y\": \"hwy\", \"x\": \"cyl\", \"value\": -0.76}, {\"y\": \"displ\", \"x\": \"cty\", \"value\": -0.8}, {\"y\": \"year\", \"x\": \"cty\", \"value\": -0.04}, {\"y\": \"cyl\", \"x\": \"cty\", \"value\": -0.81}, {\"y\": \"cty\", \"x\": \"cty\", \"value\": 1.0}, {\"y\": \"hwy\", \"x\": \"cty\", \"value\": 0.96}, {\"y\": \"displ\", \"x\": \"hwy\", \"value\": -0.77}, {\"y\": \"year\", \"x\": \"hwy\", \"value\": 0.0}, {\"y\": \"cyl\", \"x\": \"hwy\", \"value\": -0.76}, {\"y\": \"cty\", \"x\": \"hwy\", \"value\": 0.96}, {\"y\": \"hwy\", \"x\": \"hwy\", \"value\": 1.0}]}, \"config\": {\"cell\": {\"width\": 500, \"height\": 350}, \"numberFormat\": \"0.2f\"}};\n",
       "var selector = \"#0b67b15b-9334-4408-8b25-4efaefed41e0\";\n",
       "var type = \"vega-lite\";\n",
       "\n",
       "var output_area = this;\n",
       "require(['nbextensions/jupyter-vega/index'], function(vega) {\n",
       "  vega.render(selector, spec, type, output_area);\n",
       "}, function (err) {\n",
       "  if (err.requireType !== 'scripterror') {\n",
       "    throw(err);\n",
       "  }\n",
       "});\n"
      ]
     },
     "metadata": {
      "jupyter-vega": "#0b67b15b-9334-4408-8b25-4efaefed41e0"
     },
     "output_type": "display_data"
    },
    {
     "data": {
      "image/png": "[encoded data removed]"
     },
     "metadata": {
      "jupyter-vega": "#0b67b15b-9334-4408-8b25-4efaefed41e0"
     },
     "output_type": "display_data"
    }
   ],
   "source": [
    "chart = Chart(mpg_corr).mark_text(color='black', fontSize=12, fontWeight='bold').encode(x=X('x', \n",
    "                                                                                            axis=Axis(labelAngle=-45)),\n",
    "                                                                                            y='y', text='value',) + \\\n",
    "        Chart(mpg_corr).mark_point(color='black:Q', size=500, filled=True).encode(x='x', y='y', color=Color('value',\n",
    "                                                                                                           scale= Scale(range=[\"red\", \"green\"])))\n",
    "\n",
    "chart.data = mpg_corr\n",
    "chart.configure(numberFormat=\"0.2f\")\n",
    "chart"
   ]
  },
  {
   "cell_type": "markdown",
   "metadata": {},
   "source": [
    "Todo\n",
    "\n",
    "1. Can we make the plot look nicer? This looks illegible at the moment!\n",
    "2. How about a better colormap for showing the gradient \n",
    "3. How about making the legend vertical instead of horizontal?\n",
    "4. How about size defaults for font and circle for such plots, specified as a percentage? Had to fiddle around a lot to make these plots.\n"
   ]
  }
 ],
 "metadata": {
  "kernelspec": {
   "display_name": "Python 2",
   "language": "python",
   "name": "python2"
  },
  "language_info": {
   "codemirror_mode": {
    "name": "ipython",
    "version": 2
   },
   "file_extension": ".py",
   "mimetype": "text/x-python",
   "name": "python",
   "nbconvert_exporter": "python",
   "pygments_lexer": "ipython2",
   "version": "2.7.13"
  }
 },
 "nbformat": 4,
 "nbformat_minor": 2
}
